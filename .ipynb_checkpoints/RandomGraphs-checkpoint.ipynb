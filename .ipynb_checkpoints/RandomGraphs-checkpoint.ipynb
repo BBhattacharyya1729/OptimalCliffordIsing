{
 "cells": [
  {
   "cell_type": "code",
   "execution_count": 1,
   "id": "f5985ec0-dd4f-40f8-a6c5-b56231f9ec59",
   "metadata": {},
   "outputs": [],
   "source": [
    "from GraphSubmodular import *\n",
    "import numpy as np\n",
    "import matplotlib.pyplot as plt"
   ]
  },
  {
   "cell_type": "code",
   "execution_count": 2,
   "id": "d611c2a1-f4f9-440d-91ef-ec9818755c59",
   "metadata": {},
   "outputs": [],
   "source": [
    "def randomGraph(n):\n",
    "    A=np.zeros((n,n))\n",
    "    while(np.sum(A) == 0 ):\n",
    "        A=np.zeros((n,n))\n",
    "        for i in range(0,n):\n",
    "            for j in range(i+1,n):\n",
    "                r=np.random.random()\n",
    "                if(r>=0.5):\n",
    "                    A[i][j],A[j][i]=1,1\n",
    "    return A"
   ]
  },
  {
   "cell_type": "code",
   "execution_count": null,
   "id": "5dc38591-ee23-4c6d-8dcf-685a00be2a7a",
   "metadata": {},
   "outputs": [],
   "source": [
    "Data=[]\n",
    "f = open(\"RandomProgress.txt\",'w')\n",
    "print(\"---------\",file=f)\n",
    "f.flush()\n",
    "for n in range(4,17):\n",
    "    d=[]\n",
    "    for i in range(100):\n",
    "        A=randomGraph(n)\n",
    "        g_values = np.linspace(0,10,50)\n",
    "        computed_expectations,exact_expectations, graph_data=generateData(A,g_values)\n",
    "        computed = np.array(computed_expectations)\n",
    "        exact = np.array(exact_expectations)\n",
    "        errors = 100 * abs((computed-exact)/exact)\n",
    "        d.append(errors)\n",
    "    d=np.array(d)\n",
    "    d=d.T\n",
    "    d=np.mean(d,axis=1)\n",
    "    Data.append(d)\n",
    "    print(str(n)+\" Qubits Computed\",file=f)\n",
    "    f.flush()"
   ]
  },
  {
   "cell_type": "code",
   "execution_count": null,
   "id": "7cd3a08a-132b-4d01-afb7-f58d476755b4",
   "metadata": {},
   "outputs": [],
   "source": [
    "plt.figure(figsize=(12,5))\n",
    "\n",
    "for j,i in enumerate(Data):\n",
    "    plt.plot(g_values,np.array(i).T,'-o', label=str(4+j)+\" Vertex Data\")\n",
    "plt.legend()\n",
    "plt.xlabel('g')\n",
    "plt.ylabel('Relative Error (%)')\n",
    "plt.title('Relative Error for Random Graphs')\n",
    "plt.savefig('Random Graphs')\n",
    "plt.show()"
   ]
  }
 ],
 "metadata": {
  "environment": {
   "kernel": "python3",
   "name": "common-cpu.m109",
   "type": "gcloud",
   "uri": "gcr.io/deeplearning-platform-release/base-cpu:m109"
  },
  "kernelspec": {
   "display_name": "Python 3",
   "language": "python",
   "name": "python3"
  },
  "language_info": {
   "codemirror_mode": {
    "name": "ipython",
    "version": 3
   },
   "file_extension": ".py",
   "mimetype": "text/x-python",
   "name": "python",
   "nbconvert_exporter": "python",
   "pygments_lexer": "ipython3",
   "version": "3.10.11"
  }
 },
 "nbformat": 4,
 "nbformat_minor": 5
}
